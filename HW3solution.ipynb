{
 "cells": [
  {
   "cell_type": "markdown",
   "metadata": {},
   "source": [
    "# Max Flow Applications\n",
    "\n",
    "The purpose of this assignment is to investigate applications of finding a Max Flow. The problem asks you to design and implement an algorithm for shipping a material between nodes with different supply and demand requirements."
   ]
  },
  {
   "cell_type": "markdown",
   "metadata": {},
   "source": [
    "## Movie distribution\n",
    "\n",
    "First solve Problem 3 from HW3-theoretical. \n",
    "\n",
    "Now suppose a movie distributor would like to ship a copy of a film from CA to every other state. There are therefore 48 units to ship out of CA, and each other state receives 1 unit. \n",
    "\n",
    "The dataset contiguous-usa.dat lists the adjacent states in the US. Each line lists two adjacent states; thus AK and HI are omitted, but DC is included in the data. The following code reads in the graph of US states."
   ]
  },
  {
   "cell_type": "code",
   "execution_count": null,
   "metadata": {
    "collapsed": false
   },
   "outputs": [],
   "source": [
    "import networkx as nx\n",
    "G = nx.Graph()\n",
    "\n",
    "usa = open('contiguous-usa.dat')#open file \n",
    "for line in usa:\n",
    "    s1, s2 = line.strip().split()\n",
    "    G.add_edge(s1, s2)"
   ]
  },
  {
   "cell_type": "markdown",
   "metadata": {
    "collapsed": false
   },
   "source": [
    "We now encode the demands into the graph."
   ]
  },
  {
   "cell_type": "code",
   "execution_count": null,
   "metadata": {
    "collapsed": true
   },
   "outputs": [],
   "source": [
    "for state in G.nodes():\n",
    "    if state != 'CA':\n",
    "        G.node[state]['demand'] = 1\n",
    "G.node['CA']['demand'] = -48"
   ]
  },
  {
   "cell_type": "markdown",
   "metadata": {
    "collapsed": false
   },
   "source": [
    "We will assign a uniform capacity of 16 to each edge. Since CA has only three adjacent states, this is the smallest possible uniform capacity that allows one to ship all 48 units out of CA. As we have created an undirected graph, and flows have directions, we first convert the graph to a directed graph."
   ]
  },
  {
   "cell_type": "code",
   "execution_count": null,
   "metadata": {
    "collapsed": false
   },
   "outputs": [],
   "source": [
    "G = nx.DiGraph(G)\n",
    "uniform_capacity = 16\n",
    "for (s1, s2) in G.edges():\n",
    "    G.edge[s1][s2]['capacity'] = uniform_capacity"
   ]
  },
  {
   "cell_type": "markdown",
   "metadata": {},
   "source": [
    "Complete the following function to implement your algorithm to find a flow with demands. Your function should work correctly for any input, not just the movie instance considered here. As always, you are encouraged to define auxiliary functions as needed for clarity."
   ]
  },
  {
   "cell_type": "code",
   "execution_count": null,
   "metadata": {
    "collapsed": false
   },
   "outputs": [],
   "source": [
    "def flow_with_demands(graph):\n",
    "    for state in graph.nodes(): #traverse all nodes in graph\n",
    "        if  graph.node[state]['demand'] > 0:\n",
    "            graph.add_edge(state, 'T')# if node's demand>0, create a sink 'T' and link this node with T\n",
    "            graph.edge[state]['T']['capacity'] = graph.node[state]['demand']\n",
    "            #every new edge has capacity that equals demand\n",
    "    for state in graph.nodes():\n",
    "        if state!='T':\n",
    "            if  graph.node[state]['demand'] < 0:\n",
    "                graph.add_edge('S', state)# if node's demand<0, create a source 'S' and link this node with S\n",
    "                graph.edge['S'][state]['capacity'] = -graph.node[state]['demand']\n",
    "                #every new edge has capacity that equals -demand\n",
    "    flow_value, flow_dict = nx.maximum_flow(graph, 'S', 'T')#make this new graph run max flow function\n",
    "    for state in graph.nodes():\n",
    "        if state!='T'and state!='S':\n",
    "            if graph.node[state]['demand'] < 0:  \n",
    "                graph.remove_edge('S',state)#remove all edge that connected with S\n",
    "    graph.remove_node('S')#remove node S in graph\n",
    "    for state in graph.nodes():\n",
    "        if state!='T':\n",
    "            if graph.node[state]['demand'] > 0:\n",
    "                graph.remove_edge(state,'T')#remove all edge that connected with T in graph\n",
    "    graph.remove_node('T')  #remove node T in graph\n",
    "    del flow_dict['T']\n",
    "    del flow_dict['S']    # delete key S and T in flow_dict       \n",
    "    for key1 in flow_dict:\n",
    "        for key2 in flow_dict[key1]:\n",
    "            if key2=='T'or key2=='S':\n",
    "                break\n",
    "        if key2=='T' or key2=='S':\n",
    "            del flow_dict[key1][key2]      #delete all edge that connected with S or T in flow_dict\n",
    "    a=0\n",
    "    for state in graph.nodes():\n",
    "        if  graph.node[state]['demand'] < 0:\n",
    "            a=a+graph.node[state]['demand']      #calculate the sum of supply nodes'demands \n",
    "    b=0\n",
    "    for state in graph.nodes():\n",
    "        if  graph.node[state]['demand'] > 0:\n",
    "            b=b+graph.node[state]['demand']      #calculate the sum of sink nodes'demands \n",
    "    if a+b==0 and flow_value==-a:   \n",
    "        return flow_dict\n",
    "        # if the sum of supply nodes' demands equals the sum of sink nodes'demands and max flow equals one of them\n",
    "        # then return flow_dict\n",
    "    else:\n",
    "        raise nx.NetworkXUnfeasible('No flow satisfying all demands.')\n",
    "        #otherwise, raise 'No flow satisfying all demands.'"
   ]
  },
  {
   "cell_type": "markdown",
   "metadata": {},
   "source": [
    "To verify that your solution is correct, implement a function that computes the total flow into each node (which will be negative for supply nodes)."
   ]
  },
  {
   "cell_type": "code",
   "execution_count": null,
   "metadata": {
    "collapsed": true
   },
   "outputs": [],
   "source": [
    "def divergence(flow):\n",
    "    dict1={}                #create a new dict\n",
    "    for key in flow:\n",
    "        flow_out=0\n",
    "        flow_in=0\n",
    "        for key1 in flow[key]:\n",
    "            flow_out=flow_out+flow[key][key1] #calculate the total out flow in every node\n",
    "        for key2 in flow:\n",
    "            for key3 in flow[key2]:\n",
    "                if key3==key:\n",
    "                    flow_in=flow_in+flow[key2][key3] #calculate the total in flow in every node\n",
    "        dict1[key]=flow_in-flow_out   \n",
    "    return dict1"
   ]
  },
  {
   "cell_type": "markdown",
   "metadata": {},
   "source": [
    "The following code performs a sanity check on your function (but does not completely confirm correctness)."
   ]
  },
  {
   "cell_type": "code",
   "execution_count": null,
   "metadata": {
    "collapsed": false
   },
   "outputs": [],
   "source": [
    "flow = flow_with_demands(G)\n",
    "div = divergence(flow)\n",
    "print \"Flow satisfies all demands:\", all(div[n] == G.node[n]['demand'] for n in G.nodes())"
   ]
  }
 ],
 "metadata": {
  "kernelspec": {
   "display_name": "Python 2",
   "language": "python",
   "name": "python2"
  },
  "language_info": {
   "codemirror_mode": {
    "name": "ipython",
    "version": 2
   },
   "file_extension": ".py",
   "mimetype": "text/x-python",
   "name": "python",
   "nbconvert_exporter": "python",
   "pygments_lexer": "ipython2",
   "version": "2.7.10"
  }
 },
 "nbformat": 4,
 "nbformat_minor": 0
}

{
 "cells": [
  {
   "cell_type": "markdown",
   "metadata": {},
   "source": [
    "# Generalizations of Max-Flow\n",
    "\n",
    "The purpose of this assignment is to learn about the min-cost flow problem, a generalization of max-flow, and to familiarize yourself with implementing and solving linear programs."
   ]
  },
  {
   "cell_type": "markdown",
   "metadata": {},
   "source": [
    "## Min-Cost Flow\n",
    "\n",
    "Recall that a flow network with demands consists of a directed graph $G = (V, E)$, where each edge $(i,j) \\in E$ has a positive integer capacity $c_{ij}$ and each node $i \\in V$ has an integer demand $d_i$. In a *min-cost flow* problem, each edge $(i,j) \\in E$ also has a cost (or weight) $w_{ij}$. (Note that this input generalizes the input to two important problems we discussed so far: in max flow, the edge weights were not important while in shortest paths, the edge capacities were not important.) \n",
    "\n",
    "Given a flow network with capacities and costs, the goal is to find a *feasible* flow $f: E \\rightarrow R^+$ --that is, a flow satisfying edge capacity constraints and node demands-- that minimizes the total cost of the flow. Explicitly, the problem can be formulated as a linear program."
   ]
  },
  {
   "cell_type": "markdown",
   "metadata": {},
   "source": [
    "### Question 1\n",
    "\n",
    "Answer Problem 1 in HW4-theoretical."
   ]
  },
  {
   "cell_type": "markdown",
   "metadata": {},
   "source": [
    "### Question 2\n",
    "\n",
    "To implement your reduction from Problem 1 in HW4-theoretical, you will work with some standard benchmark instances for min-cost flow found [here](http://elib.zib.de/pub/Packages/mp-testdata/mincost/gte/index.html). The format of the data is described in the [Info](http://elib.zib.de/pub/Packages/mp-testdata/mincost/gte/info) file. You are to read in the graph from the data file in a form that can be solved using NetworkX's `min_cost_flow` function. Note that the data sometimes lists multiple edges between the same nodes, but with different costs or capacities. In forming the graph, you need to implement your reduction from the previous question and form a `DiGraph` instance, because the `min_cost_flow` function cannot handle multi-edges, even though the package offers `MultiDiGraph` objects."
   ]
  },
  {
   "cell_type": "code",
   "execution_count": 1,
   "metadata": {
    "collapsed": false
   },
   "outputs": [],
   "source": [
    "import networkx as nx\n",
    "\n",
    "def create_graph(infile):\n",
    "    myfile=open(infile,'r')\n",
    "    x=0\n",
    "    G = nx.Graph()\n",
    "    G = nx.DiGraph(G)     # make graph directed\n",
    "    list1=[]\n",
    "    list2=[]\n",
    "    while True:\n",
    "        line=myfile.readline().strip()#read file line by line\n",
    "        if line.split(' ')[0]=='n':\n",
    "            t=str(line.split(' ')[1])\n",
    "            list2.append(t)\n",
    "            G.add_node(t)\n",
    "            G.node[t]['demand'] = int(line.split(' ')[2]) #add demand attribute to G\n",
    "        if line.split(' ')[0]=='a':\n",
    "            b=str(line.split(' ')[1])\n",
    "            c=str(line.split(' ')[2])\n",
    "            if (b,c) in list1:             #tell if there are multiedges between b and c\n",
    "                x=x+1 \n",
    "                G.add_node(x)              #if yes, add a node x\n",
    "                G.node[x]['demand'] = 0\n",
    "                G.add_edge(b,x)\n",
    "                G.add_edge(x,c)\n",
    "                G.edge[b][x]['capacity'] = int(line.split(' ')[4]) #make the capacity equals original edge\n",
    "                G.edge[x][c]['capacity'] = int(line.split(' ')[4])\n",
    "                G.edge[b][x]['weight']=int(line.split(' ')[5])/2.0 # change weight to half of original number\n",
    "                G.edge[x][c]['weight']=int(line.split(' ')[5])/2.0\n",
    "                G.edge[b][x]['lower_bound'] = int(line.split(' ')[3]) #lower bound keep unchanged\n",
    "                G.edge[x][c]['lower_bound'] = int(line.split(' ')[3])\n",
    "            else:\n",
    "                G.add_node(b)\n",
    "                G.add_node(c)\n",
    "                if b not in list2:\n",
    "                    G.node[b]['demand'] = 0      # add kinds of attribute to graph\n",
    "                if c not in list2:\n",
    "                    G.node[c]['demand'] = 0\n",
    "                G.add_edge(b,c)\n",
    "                G.edge[b][c]['capacity'] = int(line.split(' ')[4])\n",
    "                G.edge[b][c]['weight']=int(line.split(' ')[5])\n",
    "                G.edge[b][c]['lower_bound']=int(line.split(' ')[3])\n",
    "                list1.append((b,c))\n",
    "        if line.split(' ')[0]=='':       # if we are in the blank line, then jump out\n",
    "            break \n",
    "    return G"
   ]
  },
  {
   "cell_type": "markdown",
   "metadata": {},
   "source": [
    "The following will check that your code outputs the expected min cost flow values on several test instances."
   ]
  },
  {
   "cell_type": "code",
   "execution_count": 2,
   "metadata": {
    "collapsed": false
   },
   "outputs": [
    {
     "name": "stdout",
     "output_type": "stream",
     "text": [
      "Correct value for _40 instance: True\n",
      "Correct value for _6830 instance: True\n",
      "Correct value for _176280 instance: True\n"
     ]
    }
   ],
   "source": [
    "G_40 = create_graph('/Users/Alexander/Desktop/gte_bad.40.txt')\n",
    "G_6830 = create_graph('/Users/Alexander/Desktop/gte_bad.6830.txt')\n",
    "G_176280 = create_graph('/Users/Alexander/Desktop/gte_bad.176280.txt')\n",
    "\n",
    "print \"Correct value for _40 instance:\", nx.min_cost_flow_cost(G_40) == 52099553858\n",
    "print \"Correct value for _6830 instance:\", nx.min_cost_flow_cost(G_6830) == 299390431788\n",
    "print \"Correct value for _176280 instance:\", nx.min_cost_flow_cost(G_176280) == 510585093810"
   ]
  },
  {
   "cell_type": "markdown",
   "metadata": {},
   "source": [
    "## Linear Programming\n",
    "\n",
    "Instead of using special-purpose min-cost flow solvers, you will now formulate the problems as linear programs and use general-purpose LP solvers to find the solutions."
   ]
  },
  {
   "cell_type": "markdown",
   "metadata": {},
   "source": [
    "### Question 3\n",
    "\n",
    "Implement the following function to formulate the flow LP and return the optimal value (i.e., minimum cost over feasible flows)."
   ]
  },
  {
   "cell_type": "code",
   "execution_count": 3,
   "metadata": {
    "collapsed": false
   },
   "outputs": [],
   "source": [
    "import pulp\n",
    "\n",
    "def lp_flow_value(G):\n",
    "    nodelist=[]\n",
    "    for a in G.nodes():\n",
    "        nodelist.append(a) #store all nodes\n",
    "    ndata={}\n",
    "    for b in nodelist:\n",
    "        ndata[b]=G.node[b]['demand']   #store demand of every node\n",
    "    arclist=[]\n",
    "    for c in G.edges():  #store every edge\n",
    "        arclist.append(c)\n",
    "    arcdata={}\n",
    "    for d in arclist:     #store attributes of every edge\n",
    "        x,y=d\n",
    "        arcdata[d]=[G.edge[x][y]['weight'],G.edge[x][y]['lower_bound'],G.edge[x][y]['capacity']]\n",
    "    vars = pulp.LpVariable.dicts(\"Route\",arclist,None,None) #creates Variables\n",
    "    for m in arclist:\n",
    "        vars[m].bounds(arcdata[m][1], arcdata[m][2])  #add the upper and lower bounds of variables\n",
    "    prob = pulp.LpProblem(\"min_cost\",pulp.LpMinimize) #add the 'prob' variable to store the problem data\n",
    "    prob+= pulp.lpSum([vars[m]* arcdata[m][0] for m in arclist]) #build the objective function\n",
    "    for n in nodelist:\n",
    "        prob+= (pulp.lpSum([vars[(i,j)] for (i,j) in arclist if i == n]) ==\n",
    "        ndata[n]+ pulp.lpSum([vars[(i,j)] for (i,j) in arclist if j == n])) #give constraints for the problem\n",
    "    \n",
    "    prob.writeLP(\"min_cost.lp\") #write problem data to file\n",
    "    prob.solve()    #solve problem\n",
    "    return int(pulp.value(prob.objective)) "
   ]
  },
  {
   "cell_type": "markdown",
   "metadata": {},
   "source": [
    "The following will check that the LP finds the same optimal values as previously."
   ]
  },
  {
   "cell_type": "code",
   "execution_count": 4,
   "metadata": {
    "collapsed": false
   },
   "outputs": [
    {
     "name": "stdout",
     "output_type": "stream",
     "text": [
      "Correct value for _40 instance: True\n",
      "Correct value for _6830 instance: True\n",
      "Correct value for _176280 instance: True\n"
     ]
    }
   ],
   "source": [
    "print \"Correct value for _40 instance:\", lp_flow_value(G_40) == 52099553858\n",
    "print \"Correct value for _6830 instance:\", lp_flow_value(G_6830) == 299390431788\n",
    "print \"Correct value for _176280 instance:\", lp_flow_value(G_176280) == 510585093810"
   ]
  }
 ],
 "metadata": {
  "kernelspec": {
   "display_name": "Python 2",
   "language": "python",
   "name": "python2"
  },
  "language_info": {
   "codemirror_mode": {
    "name": "ipython",
    "version": 2
   },
   "file_extension": ".py",
   "mimetype": "text/x-python",
   "name": "python",
   "nbconvert_exporter": "python",
   "pygments_lexer": "ipython2",
   "version": "2.7.10"
  }
 },
 "nbformat": 4,
 "nbformat_minor": 0
}
